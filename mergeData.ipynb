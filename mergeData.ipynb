{
 "cells": [
  {
   "cell_type": "code",
   "execution_count": null,
   "metadata": {},
   "outputs": [],
   "source": [
    "# Generic inputs for most ML tasks\n",
    "import pandas as pd\n",
    "import numpy as np\n",
    " \n",
    "\n",
    "# Read in Chili Pepper Data\n",
    "chili_data = pd.read_csv('chiliPepperOutputWithPolarity.csv')\n",
    "chili_data.head(5)\n"
   ]
  },
  {
   "cell_type": "code",
   "execution_count": null,
   "metadata": {},
   "outputs": [],
   "source": [
    "# Read Soulja Boy Data\n",
    "soulja_data = pd.read_csv('souljaBoyOutputWithPolarity.csv')\n",
    "soulja_data.head(5)\n"
   ]
  },
  {
   "cell_type": "code",
   "execution_count": null,
   "metadata": {},
   "outputs": [],
   "source": [
    "#Read in Weekend Data\n",
    "weekend_data = pd.read_csv('weekendOutputWithPolarity.csv')\n",
    "weekend_data.head(5)\n"
   ]
  },
  {
   "cell_type": "code",
   "execution_count": null,
   "metadata": {},
   "outputs": [],
   "source": [
    "#Read in Miley Cyrus\n",
    "miley_data = pd.read_csv('mileyCyrusOutputWithPolarity.csv')\n",
    "miley_data.head(5)\n"
   ]
  },
  {
   "cell_type": "code",
   "execution_count": null,
   "metadata": {},
   "outputs": [],
   "source": [
    "#Merge all Data\n",
    "merged_df = pd.concat([chili_data, soulja_data, weekend_data, miley_data], axis=0)\n",
    "\n",
    "#Write the merged dataframe to a new CSV file\n",
    "merged_df.to_csv('all_music_data.csv', index=False)\n"
   ]
  }
 ],
 "metadata": {
  "kernelspec": {
   "display_name": "base",
   "language": "python",
   "name": "python3"
  },
  "language_info": {
   "codemirror_mode": {
    "name": "ipython",
    "version": 3
   },
   "file_extension": ".py",
   "mimetype": "text/x-python",
   "name": "python",
   "nbconvert_exporter": "python",
   "pygments_lexer": "ipython3",
   "version": "3.9.7"
  },
  "orig_nbformat": 4
 },
 "nbformat": 4,
 "nbformat_minor": 2
}
